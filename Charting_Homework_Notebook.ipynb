{
 "metadata": {
  "name": "",
  "signature": "sha256:db30c1b8e7c5faacb8de0af92d73b6c6bff09c16208c40e7d104a95d5e7a55b8"
 },
 "nbformat": 3,
 "nbformat_minor": 0,
 "worksheets": [
  {
   "cells": [
    {
     "cell_type": "code",
     "collapsed": false,
     "input": [
      "import random\n",
      "import matplotlib.pyplot as plt\n",
      "import seaborn as sb\n",
      "import statistics as st\n",
      "import math\n",
      "from numpy import mean"
     ],
     "language": "python",
     "metadata": {},
     "outputs": [],
     "prompt_number": 45
    },
    {
     "cell_type": "code",
     "collapsed": false,
     "input": [
      "%matplotlib inline"
     ],
     "language": "python",
     "metadata": {},
     "outputs": [],
     "prompt_number": 46
    },
    {
     "cell_type": "code",
     "collapsed": false,
     "input": [
      "def coin_flip():\n",
      "    return random.randint(0, 1)\n",
      "\n",
      "def flip_trials(flips=100000):\n",
      "    flip_num = 0\n",
      "    flip_list = []\n",
      "    results = []\n",
      "    exp = 0\n",
      "    #tails = sum(flip_list) since tails are 1\n",
      "    #heads = len(flip_list) - sum(flip_list) since heads are 0\n",
      "    #difference = abs(heads - tails)\n",
      "    \n",
      "    for flip in range(flips):\n",
      "        flip_num += 1\n",
      "        flip_list.append(coin_flip())\n",
      "        \n",
      "        if flip_num == 2**exp or flip_num == flips:\n",
      "            exp += 1\n",
      "            results.append(((len(flip_list) - sum(flip_list)), sum(flip_list)))\n",
      "    \n",
      "    #print(flip_list)\n",
      "    #print(results)\n",
      "    #print(exp)\n",
      "    return results\n",
      "    \n",
      "flip_trials()\n"
     ],
     "language": "python",
     "metadata": {},
     "outputs": [
      {
       "metadata": {},
       "output_type": "pyout",
       "prompt_number": 47,
       "text": [
        "[(1, 0),\n",
        " (2, 0),\n",
        " (2, 2),\n",
        " (4, 4),\n",
        " (9, 7),\n",
        " (15, 17),\n",
        " (34, 30),\n",
        " (66, 62),\n",
        " (118, 138),\n",
        " (252, 260),\n",
        " (524, 500),\n",
        " (1008, 1040),\n",
        " (2040, 2056),\n",
        " (4103, 4089),\n",
        " (8164, 8220),\n",
        " (16339, 16429),\n",
        " (32844, 32692),\n",
        " (50115, 49885)]"
       ]
      }
     ],
     "prompt_number": 47
    },
    {
     "cell_type": "code",
     "collapsed": false,
     "input": [
      "results = flip_trials()\n",
      "difference = [abs(tup[0]-tup[1]) for tup in results]\n",
      "\n",
      "\n",
      "x1 = [\"2^{}\".format(exp) for exp in range(len(results)-1)]\n",
      "y1 = difference\n",
      "plt.plot(y1)\n",
      "plt.xticks(range(len(x1)), x1)\n",
      "plt.xlabel(\"Exponential Intervals\")\n",
      "plt.ylabel(\"Heads/Tails Difference\")\n",
      "plt.title(\"Coin Flips\")\n",
      "plt.show()"
     ],
     "language": "python",
     "metadata": {},
     "outputs": [
      {
       "metadata": {},
       "output_type": "display_data",
       "png": "[encoded data removed]",
       "text": [
        "<matplotlib.figure.Figure at 0x1072ab6a0>"
       ]
      }
     ],
     "prompt_number": 38
    },
    {
     "cell_type": "code",
     "collapsed": false,
     "input": [
      "results = flip_trials()\n",
      "difference = [abs(tup[0]-tup[1]) for tup in results]\n",
      "\n",
      "\n",
      "x1 = [2**exp for exp in range(len(results))]\n",
      "y1 = difference\n",
      "plt.scatter(x1, y1)\n",
      "plt.xscale('log')\n",
      "#plt.xticks(range(18))\n",
      "plt.xlabel(\"Exponential Intervals\")\n",
      "plt.ylabel(\"Heads/Tails Difference\")\n",
      "plt.title(\"Coin Flips\")\n",
      "plt.show()"
     ],
     "language": "python",
     "metadata": {},
     "outputs": [
      {
       "metadata": {},
       "output_type": "display_data",
       "png": "[encoded data removed]",
       "text": [
        "<matplotlib.figure.Figure at 0x10729f6d8>"
       ]
      }
     ],
     "prompt_number": 39
    },
    {
     "cell_type": "code",
     "collapsed": false,
     "input": [
      "\n",
      "def multi_trial(num_trials=20):\n",
      "    results = []\n",
      "    while len(results) < num_trials:\n",
      "        results.append(flip_trials())\n",
      "    return results \n",
      "\n",
      "#x = multi_trial()\n",
      "\n",
      "#print(multi_trial())\n",
      "#tuple(map(mean, zip(*x)))\n"
     ],
     "language": "python",
     "metadata": {},
     "outputs": [
      {
       "metadata": {},
       "output_type": "pyout",
       "prompt_number": 58,
       "text": [
        "(0.5,\n",
        " 1.0,\n",
        " 2.0,\n",
        " 4.0,\n",
        " 8.0,\n",
        " 16.0,\n",
        " 32.0,\n",
        " 64.0,\n",
        " 128.0,\n",
        " 256.0,\n",
        " 512.0,\n",
        " 1024.0,\n",
        " 2048.0,\n",
        " 4096.0,\n",
        " 8192.0,\n",
        " 16384.0,\n",
        " 32768.0,\n",
        " 50000.0)"
       ]
      }
     ],
     "prompt_number": 58
    }
   ],
   "metadata": {}
  }
 ]
}