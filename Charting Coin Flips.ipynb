{
 "metadata": {
  "name": "",
  "signature": "sha256:bb35ee88c3c3d60a57fef4232d8af04d368477f048c0b79f044d960e6cc87fac"
 },
 "nbformat": 3,
 "nbformat_minor": 0,
 "worksheets": [
  {
   "cells": [
    {
     "cell_type": "heading",
     "level": 1,
     "metadata": {},
     "source": [
      "Charting Coin Flips"
     ]
    },
    {
     "cell_type": "code",
     "collapsed": false,
     "input": [
      "import random\n",
      "import math\n",
      "import statistics as st\n",
      "import matplotlib.pyplot as plt\n",
      "import seaborn as sb"
     ],
     "language": "python",
     "metadata": {},
     "outputs": [],
     "prompt_number": 4
    },
    {
     "cell_type": "code",
     "collapsed": false,
     "input": [
      "%matplotlib inline\n"
     ],
     "language": "python",
     "metadata": {},
     "outputs": [],
     "prompt_number": 5
    },
    {
     "cell_type": "code",
     "collapsed": false,
     "input": [
      "def flip_coin():\n",
      "    \"\"\"Flips a coin\"\"\"\n",
      "    if random.randint(1,2) == 1:\n",
      "        return \"H\"\n",
      "    else: \n",
      "        return \"T\""
     ],
     "language": "python",
     "metadata": {},
     "outputs": [],
     "prompt_number": 6
    },
    {
     "cell_type": "code",
     "collapsed": false,
     "input": [
      "final = []\n",
      "heads = []\n",
      "tails = []\n",
      "ratios = []\n",
      "logs = [] \n",
      "differences = []\n",
      "\n",
      "def reset_vars():\n",
      "    final = []\n",
      "    heads = []\n",
      "    tails = []\n",
      "    ratios = []\n",
      "    logs = []\n",
      "    \n",
      "def repeat_coin_flip(n = 100000): \n",
      "    ratios1 = []\n",
      "    log = 0\n",
      "    count = 0\n",
      "    head = 0\n",
      "    tail = 0\n",
      "    for _ in range(1,n):\n",
      "        coin_flip = flip_coin()\n",
      "        if coin_flip == \"H\":\n",
      "            head += 1\n",
      "        else:\n",
      "            tail +=1\n",
      "        if count == 2**log:\n",
      "            log += 1\n",
      "            logs.append(count)\n",
      "            heads.append(head)\n",
      "            tails.append(tail)\n",
      "            differences.append(abs(head-tail))\n",
      "            if head == 0 or tail == 0:\n",
      "                ratios.append(0)\n",
      "                ratios1.append(0)\n",
      "            else: \n",
      "                ratios.append(head/tail)\n",
      "                ratios1.append(head/tail)\n",
      "        count += 1\n",
      "        if count == n:\n",
      "            final.append(head,tail)\n",
      "            \n",
      "    return ratios1\n",
      "       \n",
      "            \n",
      "repeat_coin_flip()\n",
      "plt.plot(logs, differences)\n",
      "            \n",
      "    "
     ],
     "language": "python",
     "metadata": {},
     "outputs": [
      {
       "metadata": {},
       "output_type": "pyout",
       "prompt_number": 7,
       "text": [
        "[<matplotlib.lines.Line2D at 0x10a8360b8>]"
       ]
      },
      {
       "metadata": {},
       "output_type": "display_data",
       "png": "[encoded data removed]",
       "text": [
        "<matplotlib.figure.Figure at 0x10a734f98>"
       ]
      }
     ],
     "prompt_number": 7
    },
    {
     "cell_type": "code",
     "collapsed": false,
     "input": [
      "plt.plot(logs, ratios)"
     ],
     "language": "python",
     "metadata": {},
     "outputs": [
      {
       "metadata": {},
       "output_type": "pyout",
       "prompt_number": 8,
       "text": [
        "[<matplotlib.lines.Line2D at 0x10a92f898>]"
       ]
      },
      {
       "metadata": {},
       "output_type": "display_data",
       "png": "[encoded data removed]",
       "text": [
        "<matplotlib.figure.Figure at 0x10a724c88>"
       ]
      }
     ],
     "prompt_number": 8
    },
    {
     "cell_type": "code",
     "collapsed": false,
     "input": [
      "plt.scatter(logs, differences)\n"
     ],
     "language": "python",
     "metadata": {},
     "outputs": [
      {
       "metadata": {},
       "output_type": "pyout",
       "prompt_number": 9,
       "text": [
        "<matplotlib.collections.PathCollection at 0x10aa00630>"
       ]
      },
      {
       "metadata": {},
       "output_type": "display_data",
       "png": "[encoded data removed]",
       "text": [
        "<matplotlib.figure.Figure at 0x10a905828>"
       ]
      }
     ],
     "prompt_number": 9
    },
    {
     "cell_type": "code",
     "collapsed": false,
     "input": [
      "plt.scatter(logs, ratios)"
     ],
     "language": "python",
     "metadata": {},
     "outputs": [
      {
       "metadata": {},
       "output_type": "pyout",
       "prompt_number": 10,
       "text": [
        "<matplotlib.collections.PathCollection at 0x10aad7048>"
       ]
      },
      {
       "metadata": {},
       "output_type": "display_data",
       "png": "[encoded data removed]",
       "text": [
        "<matplotlib.figure.Figure at 0x10aa27c18>"
       ]
      }
     ],
     "prompt_number": 10
    },
    {
     "cell_type": "markdown",
     "metadata": {},
     "source": [
      "The plots basically represent the same thing, just points dont have the visual aid of a line. If I plotted every single point and then viewed on a log scale it would give me a clearer picture...\n"
     ]
    },
    {
     "cell_type": "code",
     "collapsed": false,
     "input": [
      "reset_vars()\n",
      "twenty_ratio = []\n",
      "for _ in range(20):\n",
      "    twenty_ratio.append(repeat_coin_flip())  "
     ],
     "language": "python",
     "metadata": {},
     "outputs": [],
     "prompt_number": 11
    },
    {
     "cell_type": "code",
     "collapsed": false,
     "input": [
      "zipped_list = list(zip(*(twenty_ratio)))"
     ],
     "language": "python",
     "metadata": {},
     "outputs": [],
     "prompt_number": 12
    },
    {
     "cell_type": "code",
     "collapsed": false,
     "input": [],
     "language": "python",
     "metadata": {},
     "outputs": [],
     "prompt_number": 12
    },
    {
     "cell_type": "code",
     "collapsed": false,
     "input": [
      "means = []\n",
      "for item in zipped_list:\n",
      "    means.append(st.mean(item))\n"
     ],
     "language": "python",
     "metadata": {},
     "outputs": [],
     "prompt_number": 13
    },
    {
     "cell_type": "code",
     "collapsed": false,
     "input": [
      "logs = []\n",
      "repeat_coin_flip()\n",
      "plt.plot(logs,means)\n"
     ],
     "language": "python",
     "metadata": {},
     "outputs": [
      {
       "metadata": {},
       "output_type": "pyout",
       "prompt_number": 14,
       "text": [
        "[<matplotlib.lines.Line2D at 0x10abb2710>]"
       ]
      },
      {
       "metadata": {},
       "output_type": "display_data",
       "png": "[encoded data removed]",
       "text": [
        "<matplotlib.figure.Figure at 0x1071ed0f0>"
       ]
      }
     ],
     "prompt_number": 14
    },
    {
     "cell_type": "markdown",
     "metadata": {},
     "source": [
      "The ratios are much more uniform when averaging them"
     ]
    },
    {
     "cell_type": "code",
     "collapsed": false,
     "input": [
      "stdevs = []\n",
      "for items in zipped_list:\n",
      "    stdevs.append(st.pstdev(items))\n",
      "    "
     ],
     "language": "python",
     "metadata": {},
     "outputs": [],
     "prompt_number": 15
    },
    {
     "cell_type": "code",
     "collapsed": false,
     "input": [
      "plt.plot(logs,stdevs)"
     ],
     "language": "python",
     "metadata": {},
     "outputs": [
      {
       "metadata": {},
       "output_type": "pyout",
       "prompt_number": 16,
       "text": [
        "[<matplotlib.lines.Line2D at 0x10ac1c550>]"
       ]
      },
      {
       "metadata": {},
       "output_type": "display_data",
       "png": "[encoded data removed]",
       "text": [
        "<matplotlib.figure.Figure at 0x10abce048>"
       ]
      }
     ],
     "prompt_number": 16
    },
    {
     "cell_type": "markdown",
     "metadata": {},
     "source": [
      "The stdev drops way off as they become more uniform and average. "
     ]
    },
    {
     "cell_type": "code",
     "collapsed": false,
     "input": [
      "hundred_ratio = []\n",
      "for _ in range(100):\n",
      "    hundred_ratio.append(repeat_coin_flip()) "
     ],
     "language": "python",
     "metadata": {},
     "outputs": [],
     "prompt_number": 17
    },
    {
     "cell_type": "code",
     "collapsed": false,
     "input": [
      "zipped_list2 = list(zip(*(hundred_ratio)))\n"
     ],
     "language": "python",
     "metadata": {},
     "outputs": [],
     "prompt_number": 18
    },
    {
     "cell_type": "code",
     "collapsed": false,
     "input": [
      "hiters = []\n",
      "\n",
      "for item in zipped_list2:\n",
      "    hiters.append(st.mean(item))    \n"
     ],
     "language": "python",
     "metadata": {},
     "outputs": [],
     "prompt_number": 19
    },
    {
     "cell_type": "code",
     "collapsed": false,
     "input": [
      "logs = []\n",
      "repeat_coin_flip()\n",
      "\n",
      "plt.plot(logs, hiters)"
     ],
     "language": "python",
     "metadata": {},
     "outputs": [
      {
       "metadata": {},
       "output_type": "pyout",
       "prompt_number": 20,
       "text": [
        "[<matplotlib.lines.Line2D at 0x10ad72828>]"
       ]
      },
      {
       "metadata": {},
       "output_type": "display_data",
       "png": "[encoded data removed]",
       "text": [
        "<matplotlib.figure.Figure at 0x10ac9afd0>"
       ]
      }
     ],
     "prompt_number": 20
    },
    {
     "cell_type": "markdown",
     "metadata": {},
     "source": [
      "With this many iterations it's even straighter."
     ]
    },
    {
     "cell_type": "code",
     "collapsed": false,
     "input": [
      "sdevhitters =[]\n",
      "logs = []\n",
      "hundred_ratios = []\n",
      "for _ in range(100):\n",
      "    hundred_ratio.append(repeat_coin_flip()) \n",
      "zipped_list2 = list(zip(*(hundred_ratio)))\n"
     ],
     "language": "python",
     "metadata": {},
     "outputs": []
    },
    {
     "cell_type": "code",
     "collapsed": false,
     "input": [
      "#plt.plot(logs, sdevhitters)\n",
      "for items in zipped_list2:\n",
      "    sdevhitters.append(st.stdev(items))"
     ],
     "language": "python",
     "metadata": {},
     "outputs": []
    },
    {
     "cell_type": "code",
     "collapsed": false,
     "input": [
      "logs = []\n",
      "repeat_coin_flip()"
     ],
     "language": "python",
     "metadata": {},
     "outputs": []
    },
    {
     "cell_type": "code",
     "collapsed": false,
     "input": [
      "plt.plot(logs,sdevhitters)"
     ],
     "language": "python",
     "metadata": {},
     "outputs": []
    },
    {
     "cell_type": "code",
     "collapsed": false,
     "input": [],
     "language": "python",
     "metadata": {},
     "outputs": [],
     "prompt_number": 48
    },
    {
     "cell_type": "code",
     "collapsed": false,
     "input": [],
     "language": "python",
     "metadata": {},
     "outputs": []
    }
   ],
   "metadata": {}
  }
 ]
}