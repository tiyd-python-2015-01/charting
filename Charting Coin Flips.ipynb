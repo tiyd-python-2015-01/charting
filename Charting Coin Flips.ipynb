{
 "metadata": {
  "name": "",
  "signature": "sha256:3cad7d951fe76d85628af6d5b799ee27844f529e78f0c50d2d58f862c7f4647b"
 },
 "nbformat": 3,
 "nbformat_minor": 0,
 "worksheets": [
  {
   "cells": [
    {
     "cell_type": "heading",
     "level": 1,
     "metadata": {},
     "source": [
      "Charting Coin Flips"
     ]
    },
    {
     "cell_type": "code",
     "collapsed": false,
     "input": [
      "import random\n",
      "import math\n",
      "import statistics as st\n",
      "import matplotlib.pyplot as plt\n",
      "import seaborn as sb"
     ],
     "language": "python",
     "metadata": {},
     "outputs": [],
     "prompt_number": 8
    },
    {
     "cell_type": "code",
     "collapsed": false,
     "input": [
      "%matplotlib inline\n"
     ],
     "language": "python",
     "metadata": {},
     "outputs": [],
     "prompt_number": 9
    },
    {
     "cell_type": "code",
     "collapsed": false,
     "input": [
      "def flip_coin():\n",
      "    \"\"\"Flips a coin\"\"\"\n",
      "    if random.randint(1,2) == 1:\n",
      "        return \"H\"\n",
      "    else: \n",
      "        return \"T\""
     ],
     "language": "python",
     "metadata": {},
     "outputs": [],
     "prompt_number": 10
    },
    {
     "cell_type": "code",
     "collapsed": false,
     "input": [],
     "language": "python",
     "metadata": {},
     "outputs": [],
     "prompt_number": 10
    },
    {
     "cell_type": "code",
     "collapsed": false,
     "input": [
      "\n",
      "final = []\n",
      "heads = []\n",
      "tails = []\n",
      "ratios = []\n",
      "logs = [] \n",
      "differences = []\n",
      "\n",
      "def reset_vars():\n",
      "    final = []\n",
      "    heads = []\n",
      "    tails = []\n",
      "    ratios = []\n",
      "    logs = []\n",
      "    \n",
      "def repeat_coin_flip(n = 100000): \n",
      "    ratios1 = []\n",
      " \n",
      "    \n",
      "    log = 0\n",
      "    count = 0\n",
      "    head = 0\n",
      "    tail = 0\n",
      "    for _ in range(1,n):\n",
      "        coin_flip = flip_coin()\n",
      "        if coin_flip == \"H\":\n",
      "            head += 1\n",
      "        else:\n",
      "            tail +=1\n",
      "        if count == 2**log:\n",
      "            log += 1\n",
      "            logs.append(count)\n",
      "            heads.append(head)\n",
      "            tails.append(tail)\n",
      "            differences.append(abs(head-tail))\n",
      "            if head == 0 or tail == 0:\n",
      "                ratios.append(0)\n",
      "                ratios1.append(0)\n",
      "            else: \n",
      "                ratios.append(head/tail)\n",
      "                ratios1.append(head/tail)\n",
      "        count += 1\n",
      "        if count == n:\n",
      "            final.append(head,tail)\n",
      "    \n",
      "    return ratios1\n",
      "       \n",
      "            \n",
      "repeat_coin_flip()\n",
      "plt.plot(logs, differences)\n",
      "            \n",
      "    "
     ],
     "language": "python",
     "metadata": {},
     "outputs": [
      {
       "metadata": {},
       "output_type": "pyout",
       "prompt_number": 11,
       "text": [
        "[<matplotlib.lines.Line2D at 0x10b8e33c8>]"
       ]
      },
      {
       "metadata": {},
       "output_type": "display_data",
       "png": "[encoded data removed]",
       "text": [
        "<matplotlib.figure.Figure at 0x10b890d30>"
       ]
      }
     ],
     "prompt_number": 11
    },
    {
     "cell_type": "code",
     "collapsed": false,
     "input": [
      "plt.plot(logs, ratios)"
     ],
     "language": "python",
     "metadata": {},
     "outputs": [
      {
       "metadata": {},
       "output_type": "pyout",
       "prompt_number": 12,
       "text": [
        "[<matplotlib.lines.Line2D at 0x10b9ee320>]"
       ]
      },
      {
       "metadata": {},
       "output_type": "display_data",
       "png": "[encoded data removed]",
       "text": [
        "<matplotlib.figure.Figure at 0x10b890048>"
       ]
      }
     ],
     "prompt_number": 12
    },
    {
     "cell_type": "code",
     "collapsed": false,
     "input": [
      "plt.scatter(logs, differences)\n"
     ],
     "language": "python",
     "metadata": {},
     "outputs": [
      {
       "metadata": {},
       "output_type": "pyout",
       "prompt_number": 13,
       "text": [
        "<matplotlib.collections.PathCollection at 0x10babd470>"
       ]
      },
      {
       "metadata": {},
       "output_type": "display_data",
       "png": "[encoded data removed]",
       "text": [
        "<matplotlib.figure.Figure at 0x10ba12710>"
       ]
      }
     ],
     "prompt_number": 13
    },
    {
     "cell_type": "code",
     "collapsed": false,
     "input": [
      "plt.scatter(logs, ratios)"
     ],
     "language": "python",
     "metadata": {},
     "outputs": [
      {
       "metadata": {},
       "output_type": "pyout",
       "prompt_number": 14,
       "text": [
        "<matplotlib.collections.PathCollection at 0x10bb2f2b0>"
       ]
      },
      {
       "metadata": {},
       "output_type": "display_data",
       "png": "[encoded data removed]",
       "text": [
        "<matplotlib.figure.Figure at 0x10bad1d30>"
       ]
      }
     ],
     "prompt_number": 14
    },
    {
     "cell_type": "markdown",
     "metadata": {},
     "source": [
      "The plots basically represent the same thing, just points dont have the visual aid of a line. If I plotted every single point and then viewed on a log scale it would give me a clearer picture...\n"
     ]
    },
    {
     "cell_type": "code",
     "collapsed": false,
     "input": [
      "reset_vars()\n",
      "twenty_ratio = []\n",
      "for _ in range(20):\n",
      "    twenty_ratio.append(repeat_coin_flip())  "
     ],
     "language": "python",
     "metadata": {},
     "outputs": [],
     "prompt_number": 15
    },
    {
     "cell_type": "code",
     "collapsed": false,
     "input": [
      "zipped_list = list(zip(*(twenty_ratio)))"
     ],
     "language": "python",
     "metadata": {},
     "outputs": [],
     "prompt_number": 16
    },
    {
     "cell_type": "code",
     "collapsed": false,
     "input": [],
     "language": "python",
     "metadata": {},
     "outputs": [],
     "prompt_number": 16
    },
    {
     "cell_type": "code",
     "collapsed": false,
     "input": [
      "means = []\n",
      "for item in zipped_list:\n",
      "    means.append(st.mean(item))\n"
     ],
     "language": "python",
     "metadata": {},
     "outputs": [],
     "prompt_number": 20
    },
    {
     "cell_type": "code",
     "collapsed": false,
     "input": [
      "logs = []\n",
      "repeat_coin_flip()\n",
      "plt.plot(logs,means)\n"
     ],
     "language": "python",
     "metadata": {},
     "outputs": [
      {
       "metadata": {},
       "output_type": "pyout",
       "prompt_number": 21,
       "text": [
        "[<matplotlib.lines.Line2D at 0x10bc6a080>]"
       ]
      },
      {
       "metadata": {},
       "output_type": "display_data",
       "png": "[encoded data removed]",
       "text": [
        "<matplotlib.figure.Figure at 0x10baff630>"
       ]
      }
     ],
     "prompt_number": 21
    },
    {
     "cell_type": "markdown",
     "metadata": {},
     "source": [
      "The ratios are much more uniform when averaging them"
     ]
    },
    {
     "cell_type": "code",
     "collapsed": false,
     "input": [
      "stdevs = []\n",
      "for items in zipped_list:\n",
      "    stdevs.append(st.pstdev(items))\n",
      "    "
     ],
     "language": "python",
     "metadata": {},
     "outputs": [],
     "prompt_number": 22
    },
    {
     "cell_type": "code",
     "collapsed": false,
     "input": [
      "plt.plot(logs,stdevs)"
     ],
     "language": "python",
     "metadata": {},
     "outputs": [
      {
       "metadata": {},
       "output_type": "pyout",
       "prompt_number": 23,
       "text": [
        "[<matplotlib.lines.Line2D at 0x10bd442e8>]"
       ]
      },
      {
       "metadata": {},
       "output_type": "display_data",
       "png": "[encoded data removed]",
       "text": [
        "<matplotlib.figure.Figure at 0x10bc914a8>"
       ]
      }
     ],
     "prompt_number": 23
    },
    {
     "cell_type": "markdown",
     "metadata": {},
     "source": [
      "The stdev drops way off as they become more uniform and average. "
     ]
    },
    {
     "cell_type": "code",
     "collapsed": false,
     "input": [
      "hundred_ratio = []\n",
      "for _ in range(100):\n",
      "    hundred_ratio.append(repeat_coin_flip()) "
     ],
     "language": "python",
     "metadata": {},
     "outputs": [],
     "prompt_number": 24
    },
    {
     "cell_type": "code",
     "collapsed": false,
     "input": [
      "zipped_list2 = list(zip(*(hundred_ratio)))\n"
     ],
     "language": "python",
     "metadata": {},
     "outputs": [],
     "prompt_number": 25
    },
    {
     "cell_type": "code",
     "collapsed": false,
     "input": [
      "hiters = []\n",
      "\n",
      "for item in zipped_list2:\n",
      "    hiters.append(st.mean(item))    \n"
     ],
     "language": "python",
     "metadata": {},
     "outputs": [],
     "prompt_number": 26
    },
    {
     "cell_type": "code",
     "collapsed": false,
     "input": [],
     "language": "python",
     "metadata": {},
     "outputs": [],
     "prompt_number": 26
    },
    {
     "cell_type": "code",
     "collapsed": false,
     "input": [
      "logs = []\n",
      "repeat_coin_flip()\n",
      "\n",
      "plt.plot(logs, hiters)"
     ],
     "language": "python",
     "metadata": {},
     "outputs": [
      {
       "metadata": {},
       "output_type": "pyout",
       "prompt_number": 27,
       "text": [
        "[<matplotlib.lines.Line2D at 0x10be335f8>]"
       ]
      },
      {
       "metadata": {},
       "output_type": "display_data",
       "png": "[encoded data removed]",
       "text": [
        "<matplotlib.figure.Figure at 0x10bd4c390>"
       ]
      }
     ],
     "prompt_number": 27
    },
    {
     "cell_type": "markdown",
     "metadata": {},
     "source": [
      "With this many iterations it's even straighter, "
     ]
    },
    {
     "cell_type": "code",
     "collapsed": false,
     "input": [
      "sdevhitters =[]\n",
      "logs = []\n",
      "hundred_ratios = []\n",
      "for _ in range(100):\n",
      "    hundred_ratio.append(repeat_coin_flip()) \n",
      "zipped_list2 = list(zip(*(hundred_ratio)))\n"
     ],
     "language": "python",
     "metadata": {},
     "outputs": [],
     "prompt_number": 51
    },
    {
     "cell_type": "code",
     "collapsed": false,
     "input": [
      "#plt.plot(logs, sdevhitters)\n",
      "for items in zipped_list2:\n",
      "    sdevhitters.append(st.stdev(items))"
     ],
     "language": "python",
     "metadata": {},
     "outputs": [],
     "prompt_number": 52
    },
    {
     "cell_type": "code",
     "collapsed": false,
     "input": [
      "logs = []\n",
      "repeat_coin_flip()"
     ],
     "language": "python",
     "metadata": {},
     "outputs": [
      {
       "metadata": {},
       "output_type": "pyout",
       "prompt_number": 53,
       "text": [
        "[1.0,\n",
        " 2.0,\n",
        " 1.5,\n",
        " 1.25,\n",
        " 1.4285714285714286,\n",
        " 0.9411764705882353,\n",
        " 0.7567567567567568,\n",
        " 1.0806451612903225,\n",
        " 1.089430894308943,\n",
        " 1.052,\n",
        " 1.00587084148728,\n",
        " 1.0207100591715976,\n",
        " 0.9907677356656949,\n",
        " 1.0056303549571604,\n",
        " 0.9950079142822355,\n",
        " 1.0074123989218329,\n",
        " 1.0063370580131639]"
       ]
      }
     ],
     "prompt_number": 53
    },
    {
     "cell_type": "code",
     "collapsed": false,
     "input": [
      "plt.plot(logs,sdevhitters,)"
     ],
     "language": "python",
     "metadata": {},
     "outputs": [
      {
       "metadata": {},
       "output_type": "pyout",
       "prompt_number": 54,
       "text": [
        "[<matplotlib.lines.Line2D at 0x10c037b00>]"
       ]
      },
      {
       "metadata": {},
       "output_type": "display_data",
       "png": "[encoded data removed]",
       "text": [
        "<matplotlib.figure.Figure at 0x10c111828>"
       ]
      }
     ],
     "prompt_number": 54
    },
    {
     "cell_type": "code",
     "collapsed": false,
     "input": [],
     "language": "python",
     "metadata": {},
     "outputs": [],
     "prompt_number": 48
    },
    {
     "cell_type": "code",
     "collapsed": false,
     "input": [],
     "language": "python",
     "metadata": {},
     "outputs": []
    }
   ],
   "metadata": {}
  }
 ]
}