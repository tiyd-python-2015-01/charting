{
 "metadata": {
  "name": "",
  "signature": "sha256:86c8fb0e4fe6c4c520c241d41fb5efd84b3120e17822ea82db072e2ea88c054e"
 },
 "nbformat": 3,
 "nbformat_minor": 0,
 "worksheets": [
  {
   "cells": [
    {
     "cell_type": "code",
     "collapsed": false,
     "input": [
      "\n",
      "\n",
      "from charting import *\n",
      "\n",
      "sim = flip_simulation(10)\n",
      "le_sim = int(len(sim))\n",
      "\n",
      "\n",
      "def test_coin_flip():\n",
      "    assert flipcoin() in [\"H\", \"T\"]\n",
      "\n",
      "\n",
      "def test_flip_simulation():\n",
      "    assert le_sim == 5\n",
      "\n",
      "\n",
      "def test_minus():\n",
      "    minuslist = head_minus_tail(sim)\n",
      "    assert minuslist[0] == sim[0]['Heads'] - sim[0]['Tails']\n",
      "    assert len(minuslist) == len(sim)\n",
      "\n",
      "\n",
      "def test_ratios():\n",
      "    ratiolist = ratios(sim)\n",
      "    assert ratiolist[0] == (sim[0]['Heads']\n",
      "                            / (sim[0]['Heads'] + sim[0]['Tails']))\n",
      "    assert len(ratiolist) == le_sim\n",
      "\n",
      "\n",
      "def test_run_trial():\n",
      "    trials = run_trial(2, 10)\n",
      "    assert len(trials) == 2\n",
      "    assert len(trials[0]) == le_sim\n",
      "\n",
      "\n",
      "def test_trial_ratios():\n",
      "    trials = run_trial(2, 10)\n",
      "    trial_ratios = trial_ratio(trials)\n",
      "    assert len(trial_ratios[0]) == le_sim\n",
      "\n",
      "\n",
      "def test_means():\n",
      "    a = [[1, 2, 3, 4], [5, 6, 7, 6]]\n",
      "    assert means(a) == [2.5, 6]\n",
      "\n",
      "\n",
      "def test_st_dev():\n",
      "    a = [[1, 2, 3, 4], [5, 6, 7, 6]]\n",
      "    assert std_dev(a) == [1.2909944487358056, 0.816496580927726]\n"
     ],
     "language": "python",
     "metadata": {},
     "outputs": [],
     "prompt_number": 1
    },
    {
     "cell_type": "code",
     "collapsed": false,
     "input": [],
     "language": "python",
     "metadata": {},
     "outputs": [],
     "prompt_number": 3
    },
    {
     "cell_type": "code",
     "collapsed": false,
     "input": [],
     "language": "python",
     "metadata": {},
     "outputs": []
    }
   ],
   "metadata": {}
  }
 ]
}